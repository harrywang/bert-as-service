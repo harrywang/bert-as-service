{
 "cells": [
  {
   "cell_type": "markdown",
   "metadata": {},
   "source": [
    "\n",
    "see the instructions here: https://github.com/hanxiao/bert-as-service#building-a-qa-semantic-search-engine-in-3-minutes for more details about the following code"
   ]
  },
  {
   "cell_type": "code",
   "execution_count": 23,
   "metadata": {},
   "outputs": [],
   "source": [
    "import numpy as np\n",
    "from bert_serving.client import BertClient"
   ]
  },
  {
   "cell_type": "code",
   "execution_count": 24,
   "metadata": {},
   "outputs": [
    {
     "name": "stdout",
     "output_type": "stream",
     "text": [
      "['且', '世', '东', '九', '亭', '今', '从', '令', '作', '使', '侯', '元', '光', '利', '印', '去', '受', '右', '司', '合', '名', '周', '命', '和', '唯', '堂', '士', '多', '夜', '奉', '女', '好', '始', '字', '孝', '守', '宗', '官', '定', '宜', '室', '家', '寒', '左', '常', '建', '徐', '御', '必', '思', '意', '我', '敬', '新', '易', '春', '更', '朝', '李', '来', '林', '正', '武', '氏', '永', '流', '海', '深', '清', '游', '父', '物', '玉', '用', '申', '白', '皇', '益', '福', '秋', '立', '章', '老', '臣', '良', '莫', '虎', '衣', '西', '起', '足', '身', '通', '遂', '重', '陵', '雨', '高', '黄', '鼎']\n"
     ]
    }
   ],
   "source": [
    "f = open('chars-zh.txt', 'r')\n",
    "#x = f.readlines()  # this includes /n\n",
    "words = f.read().splitlines()\n",
    "f.close()\n",
    "print(words)"
   ]
  },
  {
   "cell_type": "code",
   "execution_count": 25,
   "metadata": {},
   "outputs": [],
   "source": [
    "ch_words_vecs = bc.encode(words)"
   ]
  },
  {
   "cell_type": "code",
   "execution_count": null,
   "metadata": {},
   "outputs": [
    {
     "name": "stdout",
     "output_type": "stream",
     "text": [
      "输入内容(菜品加诗词): 红烧肉卤鸡蛋\n",
      "> 15.190709\t虎\n",
      "> 14.898398\t命\n",
      "> 14.78796\t身\n",
      "> 14.760677\t老\n",
      "> 14.737518\t夜\n",
      "> 14.720282\t我\n",
      "> 14.671532\t游\n",
      "> 14.618442\t东\n",
      "> 14.598545\t白\n",
      "> 14.581066\t官\n",
      "输入内容(菜品加诗词): 酱香排骨\n",
      "> 14.51937\t虎\n",
      "> 14.235369\t命\n",
      "> 14.104503\t老\n",
      "> 14.081302\t身\n",
      "> 14.051659\t我\n",
      "> 14.033139\t东\n",
      "> 14.027043\t名\n",
      "> 14.005158\t世\n",
      "> 13.989278\t敬\n",
      "> 13.986423\t夜\n",
      "输入内容(菜品加诗词): 面筋塞肉\n",
      "> 16.243832\t虎\n",
      "> 16.219017\t命\n",
      "> 16.03269\t世\n",
      "> 16.009556\t身\n",
      "> 15.867492\t必\n",
      "> 15.866488\t老\n",
      "> 15.865131\t我\n",
      "> 15.8523035\t去\n",
      "> 15.847\t夜\n",
      "> 15.810453\t东\n",
      "输入内容(菜品加诗词): 床前明月光疑是地上霜举头望明月低头思故乡-面筋塞肉\n",
      "> 13.107747\t命\n",
      "> 13.032136\t白\n",
      "> 12.961108\t夜\n",
      "> 12.953758\t东\n",
      "> 12.918134\t虎\n",
      "> 12.916387\t身\n",
      "> 12.865858\t老\n",
      "> 12.865794\t世\n",
      "> 12.859026\t重\n",
      "> 12.827875\t官\n",
      "输入内容(菜品加诗词): 小学篱芭旁的蒲公英　是记忆里有味道的风景午睡操场传来蝉的声音 面筋塞肉\n",
      "> 14.399694\t命\n",
      "> 14.177214\t重\n",
      "> 14.117924\t身\n",
      "> 14.090376\t东\n",
      "> 14.079043\t游\n",
      "> 14.067668\t宜\n",
      "> 14.038636\t官\n",
      "> 14.01264\t虎\n",
      "> 13.997799\t去\n",
      "> 13.991448\t我\n",
      "输入内容(菜品加诗词): 小学篱芭旁的蒲公英　是记忆里有味道的风景午睡操场传来蝉的声音\n",
      "> 14.399694\t命\n",
      "> 14.177214\t重\n",
      "> 14.117924\t身\n",
      "> 14.090376\t东\n",
      "> 14.079043\t游\n",
      "> 14.067668\t宜\n",
      "> 14.038636\t官\n",
      "> 14.01264\t虎\n",
      "> 13.997799\t去\n",
      "> 13.991448\t我\n"
     ]
    }
   ],
   "source": [
    "topk = 10\n",
    "while True:\n",
    "    query = input('输入内容(菜品加诗词): ')\n",
    "    query_vec = bc.encode([query])[0]\n",
    "    # compute normalized dot product as score\n",
    "    score = np.sum(query_vec * ch_words_vecs, axis=1) / np.linalg.norm(ch_words_vecs, axis=1)\n",
    "    topk_idx = np.argsort(score)[::-1][:topk]\n",
    "    for idx in topk_idx:\n",
    "        print('> %s\\t%s' % (score[idx], words[idx]))"
   ]
  },
  {
   "cell_type": "code",
   "execution_count": null,
   "metadata": {},
   "outputs": [],
   "source": []
  }
 ],
 "metadata": {
  "kernelspec": {
   "display_name": "Python 3",
   "language": "python",
   "name": "python3"
  },
  "language_info": {
   "codemirror_mode": {
    "name": "ipython",
    "version": 3
   },
   "file_extension": ".py",
   "mimetype": "text/x-python",
   "name": "python",
   "nbconvert_exporter": "python",
   "pygments_lexer": "ipython3",
   "version": "3.6.5"
  }
 },
 "nbformat": 4,
 "nbformat_minor": 2
}
